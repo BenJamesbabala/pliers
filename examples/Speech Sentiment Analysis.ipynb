{
 "cells": [
  {
   "cell_type": "markdown",
   "metadata": {
    "deletable": true,
    "editable": true
   },
   "source": [
    "Speech sentiment analysis\n",
    "===================\n",
    "In this notebook we illustrate the power of pliers converters and extractors in a single pipeline. Specifically, we first run a state-of-the-art speech recognition API to transcribe the text of an audio clip. Then, we run a sentiment analysis API to extract the emotion ratings of the spoken words. The audio clip of this example is a short clip of an Obama administration press conference.\n",
    "\n",
    "Note: the analysis is not using any audio features to assist emotion extraction. It is simply only using the text transcribed from the audio"
   ]
  },
  {
   "cell_type": "code",
   "execution_count": 1,
   "metadata": {
    "collapsed": false,
    "deletable": true,
    "editable": true
   },
   "outputs": [],
   "source": [
    "from pliers.tests.utils import get_test_data_path\n",
    "from os.path import join\n",
    "from pliers.stimuli import AudioStim\n",
    "from pliers.graph import Graph"
   ]
  },
  {
   "cell_type": "code",
   "execution_count": 2,
   "metadata": {
    "collapsed": false,
    "deletable": true,
    "editable": true
   },
   "outputs": [],
   "source": [
    "# Configure our stimulus and extraction graph\n",
    "stim = AudioStim(join(get_test_data_path(), 'video', 'obama_speech.wav'))\n",
    "nodes = [\n",
    "    {\n",
    "        'transformer':'IBMSpeechAPIConverter', \n",
    "        'parameters':{'resolution':'phrases'}, \n",
    "        'children':[\n",
    "            {\n",
    "                'transformer':'IndicoAPITextExtractor',\n",
    "                'parameters':{'models':['emotion']}\n",
    "            }\n",
    "        ]\n",
    "    }\n",
    "]\n",
    "graph = Graph(nodes)"
   ]
  },
  {
   "cell_type": "markdown",
   "metadata": {
    "deletable": true,
    "editable": true
   },
   "source": [
    "**Parameters**:\n",
    "\n",
    "IBMSpeechAPIConverter - `resolution` specifies how we should chunk the text; using phrases provides better results for emotion analysis, as opposed to word-by-word analysis\n",
    "\n",
    "IndicoAPITextExtractor - `models` specifies which analysis models to run using the Indico API; 'emotion' will give back five emotion ratings (anger, joy, fear, sadness, surprise) of the text"
   ]
  },
  {
   "cell_type": "code",
   "execution_count": 3,
   "metadata": {
    "collapsed": false,
    "deletable": true,
    "editable": true
   },
   "outputs": [
    {
     "data": {
      "text/html": [
       "<div>\n",
       "<table border=\"1\" class=\"dataframe\">\n",
       "  <thead>\n",
       "    <tr>\n",
       "      <th></th>\n",
       "      <th>stim</th>\n",
       "      <th>history</th>\n",
       "      <th>filename</th>\n",
       "      <th>class</th>\n",
       "      <th>onset</th>\n",
       "      <th colspan=\"5\" halign=\"left\">IndicoAPITextExtractor</th>\n",
       "    </tr>\n",
       "    <tr>\n",
       "      <th></th>\n",
       "      <th></th>\n",
       "      <th></th>\n",
       "      <th></th>\n",
       "      <th></th>\n",
       "      <th></th>\n",
       "      <th>emotion_anger</th>\n",
       "      <th>emotion_joy</th>\n",
       "      <th>emotion_fear</th>\n",
       "      <th>emotion_sadness</th>\n",
       "      <th>emotion_surprise</th>\n",
       "    </tr>\n",
       "  </thead>\n",
       "  <tbody>\n",
       "    <tr>\n",
       "      <th>0</th>\n",
       "      <td></td>\n",
       "      <td>AudioStim-&gt;IBMSpeechAPIConverter/ComplexTextSt...</td>\n",
       "      <td>None</td>\n",
       "      <td>ComplexTextStim</td>\n",
       "      <td>0.99</td>\n",
       "      <td>0.069150</td>\n",
       "      <td>0.446798</td>\n",
       "      <td>0.261152</td>\n",
       "      <td>0.119870</td>\n",
       "      <td>0.103030</td>\n",
       "    </tr>\n",
       "    <tr>\n",
       "      <th>1</th>\n",
       "      <td></td>\n",
       "      <td>AudioStim-&gt;IBMSpeechAPIConverter/ComplexTextSt...</td>\n",
       "      <td>None</td>\n",
       "      <td>ComplexTextStim</td>\n",
       "      <td>4.24</td>\n",
       "      <td>0.157051</td>\n",
       "      <td>0.218239</td>\n",
       "      <td>0.218792</td>\n",
       "      <td>0.188566</td>\n",
       "      <td>0.217352</td>\n",
       "    </tr>\n",
       "    <tr>\n",
       "      <th>2</th>\n",
       "      <td></td>\n",
       "      <td>AudioStim-&gt;IBMSpeechAPIConverter/ComplexTextSt...</td>\n",
       "      <td>None</td>\n",
       "      <td>ComplexTextStim</td>\n",
       "      <td>5.64</td>\n",
       "      <td>0.053322</td>\n",
       "      <td>0.599211</td>\n",
       "      <td>0.118703</td>\n",
       "      <td>0.085534</td>\n",
       "      <td>0.143229</td>\n",
       "    </tr>\n",
       "    <tr>\n",
       "      <th>3</th>\n",
       "      <td></td>\n",
       "      <td>AudioStim-&gt;IBMSpeechAPIConverter/ComplexTextSt...</td>\n",
       "      <td>None</td>\n",
       "      <td>ComplexTextStim</td>\n",
       "      <td>8.20</td>\n",
       "      <td>0.207950</td>\n",
       "      <td>0.215616</td>\n",
       "      <td>0.214244</td>\n",
       "      <td>0.176775</td>\n",
       "      <td>0.185416</td>\n",
       "    </tr>\n",
       "  </tbody>\n",
       "</table>\n",
       "</div>"
      ],
      "text/plain": [
       "  stim                                            history filename  \\\n",
       "                                                                     \n",
       "0       AudioStim->IBMSpeechAPIConverter/ComplexTextSt...     None   \n",
       "1       AudioStim->IBMSpeechAPIConverter/ComplexTextSt...     None   \n",
       "2       AudioStim->IBMSpeechAPIConverter/ComplexTextSt...     None   \n",
       "3       AudioStim->IBMSpeechAPIConverter/ComplexTextSt...     None   \n",
       "\n",
       "             class onset IndicoAPITextExtractor                           \\\n",
       "                                  emotion_anger emotion_joy emotion_fear   \n",
       "0  ComplexTextStim  0.99               0.069150    0.446798     0.261152   \n",
       "1  ComplexTextStim  4.24               0.157051    0.218239     0.218792   \n",
       "2  ComplexTextStim  5.64               0.053322    0.599211     0.118703   \n",
       "3  ComplexTextStim  8.20               0.207950    0.215616     0.214244   \n",
       "\n",
       "                                    \n",
       "  emotion_sadness emotion_surprise  \n",
       "0        0.119870         0.103030  \n",
       "1        0.188566         0.217352  \n",
       "2        0.085534         0.143229  \n",
       "3        0.176775         0.185416  "
      ]
     },
     "execution_count": 3,
     "metadata": {},
     "output_type": "execute_result"
    }
   ],
   "source": [
    "results = graph.run(stim)\n",
    "results"
   ]
  },
  {
   "cell_type": "code",
   "execution_count": null,
   "metadata": {
    "collapsed": true
   },
   "outputs": [],
   "source": []
  }
 ],
 "metadata": {
  "kernelspec": {
   "display_name": "Python 2",
   "language": "python",
   "name": "python2"
  },
  "language_info": {
   "codemirror_mode": {
    "name": "ipython",
    "version": 2
   },
   "file_extension": ".py",
   "mimetype": "text/x-python",
   "name": "python",
   "nbconvert_exporter": "python",
   "pygments_lexer": "ipython2",
   "version": "2.7.12"
  }
 },
 "nbformat": 4,
 "nbformat_minor": 0
}
