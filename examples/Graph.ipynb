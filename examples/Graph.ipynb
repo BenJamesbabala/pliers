{
 "cells": [
  {
   "cell_type": "code",
   "execution_count": 1,
   "metadata": {
    "collapsed": false
   },
   "outputs": [],
   "source": [
    "'''Go through movie->features pipeline manually'''\n",
    "# First load the stimulus\n",
    "from featurex.tests.utils import get_test_data_path\n",
    "from os.path import join\n",
    "from featurex.stimuli.video import VideoStim\n",
    "from featurex.converters.video import VideoToAudioConverter, FrameSamplingConverter\n",
    "from featurex.converters.image import TesseractConverter\n",
    "from featurex.converters.api import WitTranscriptionConverter\n",
    "from featurex.extractors import ExtractorResult\n",
    "from featurex.extractors.image import VibranceExtractor\n",
    "from featurex.extractors.text import LengthExtractor\n",
    "from featurex.graph import Graph, Node\n",
    "\n",
    "filename = join(get_test_data_path(), 'video', 'obama_speech.mp4')\n",
    "video = VideoStim(filename)"
   ]
  },
  {
   "cell_type": "code",
   "execution_count": 2,
   "metadata": {
    "collapsed": false
   },
   "outputs": [
    {
     "name": "stdout",
     "output_type": "stream",
     "text": [
      "[MoviePy] Writing audio in /Users/quinnmac/Library/Python/2.7/lib/python/site-packages/featurex-0.0.1-py2.7.egg/featurex/tests/data/video/obama_speech.wav\n"
     ]
    },
    {
     "name": "stderr",
     "output_type": "stream",
     "text": [
      "100%|██████████| 193/193 [00:00<00:00, 1478.78it/s]"
     ]
    },
    {
     "name": "stdout",
     "output_type": "stream",
     "text": [
      "[MoviePy] Done.\n"
     ]
    },
    {
     "name": "stderr",
     "output_type": "stream",
     "text": [
      "\n"
     ]
    }
   ],
   "source": [
    "# Extract the audio\n",
    "conv = VideoToAudioConverter()\n",
    "audio = conv.convert(video)"
   ]
  },
  {
   "cell_type": "code",
   "execution_count": 3,
   "metadata": {
    "collapsed": false
   },
   "outputs": [],
   "source": [
    "# Subsample the video\n",
    "conv = FrameSamplingConverter(every=15)\n",
    "derived = conv.convert(video)"
   ]
  },
  {
   "cell_type": "code",
   "execution_count": 4,
   "metadata": {
    "collapsed": false
   },
   "outputs": [],
   "source": [
    "# Extract text from the video\n",
    "conv = TesseractConverter()\n",
    "visual_texts = []\n",
    "for frame in derived:\n",
    "    visual_texts.append(conv.convert(frame))"
   ]
  },
  {
   "cell_type": "code",
   "execution_count": 5,
   "metadata": {
    "collapsed": false
   },
   "outputs": [],
   "source": [
    "# Extract text from the audio\n",
    "conv = WitTranscriptionConverter()\n",
    "audio_text = conv.convert(audio)"
   ]
  },
  {
   "cell_type": "code",
   "execution_count": 6,
   "metadata": {
    "collapsed": false
   },
   "outputs": [],
   "source": [
    "# Extract a low-level image feature from each frame\n",
    "ext = VibranceExtractor()\n",
    "visual_features = []\n",
    "for frame in derived:\n",
    "    visual_features.append(ext.extract(frame))"
   ]
  },
  {
   "cell_type": "code",
   "execution_count": 8,
   "metadata": {
    "collapsed": false
   },
   "outputs": [],
   "source": [
    "# Extract word length from both audio and visual text\n",
    "ext = LengthExtractor()\n",
    "visual_length = [ext.extract(t) for t in visual_texts]\n",
    "audio_length = [ext.extract(t) for t in audio_text]"
   ]
  },
  {
   "cell_type": "code",
   "execution_count": 7,
   "metadata": {
    "collapsed": false
   },
   "outputs": [
    {
     "name": "stdout",
     "output_type": "stream",
     "text": [
      "        onset  duration    vibrance\n",
      "  stim                             \n",
      "0 0       NaN       NaN  418.851528\n",
      "  15      NaN       NaN  441.618626\n",
      "  30      NaN       NaN  506.321013\n",
      "  45      NaN       NaN  575.903070\n",
      "  60      NaN       NaN  586.500651\n",
      "  75      NaN       NaN  590.007483\n",
      "  90      NaN       NaN  589.524823\n",
      "                                                      onset  duration  \\\n",
      "  stim                                                                  \n",
      "0                                                       NaN       NaN   \n",
      "                                                        NaN       NaN   \n",
      "                                                        NaN       NaN   \n",
      "  mslnsu-r onu‘ﬁ. SAVEIENV nu IRAN                      NaN       NaN   \n",
      "  1'\"\\nPIESIIIE Y' I' I ‘ s\\nt 1'. I)“; 555'} HEM...    NaN       NaN   \n",
      "                                                        NaN       NaN   \n",
      "  , 7 V\\nPnEslnEMJ'W min: an Inn:\\nA ‘                  NaN       NaN   \n",
      "\n",
      "                                                      text_length  \n",
      "  stim                                                             \n",
      "0                                                               0  \n",
      "                                                                0  \n",
      "                                                                0  \n",
      "  mslnsu-r onu‘ﬁ. SAVEIENV nu IRAN                             36  \n",
      "  1'\"\\nPIESIIIE Y' I' I ‘ s\\nt 1'. I)“; 555'} HEM...           56  \n",
      "                                                                0  \n",
      "  , 7 V\\nPnEslnEMJ'W min: an Inn:\\nA ‘                         36  \n",
      "                onset  duration  text_length\n",
      "  stim                                      \n",
      "0 today           NaN       NaN            5\n",
      "  after           NaN       NaN            5\n",
      "  two             NaN       NaN            3\n",
      "  years           NaN       NaN            5\n",
      "  of              NaN       NaN            2\n",
      "  negotiations    NaN       NaN           12\n"
     ]
    }
   ],
   "source": [
    "# Merge and display results\n",
    "print ExtractorResult.merge_stims(visual_features)\n",
    "print ExtractorResult.merge_stims(visual_length)\n",
    "print ExtractorResult.merge_stims(audio_length)"
   ]
  },
  {
   "cell_type": "code",
   "execution_count": 5,
   "metadata": {
    "collapsed": false
   },
   "outputs": [
    {
     "name": "stdout",
     "output_type": "stream",
     "text": [
      "[MoviePy] Writing audio in /Users/quinnmac/Library/Python/2.7/lib/python/site-packages/featurex-0.0.1-py2.7.egg/featurex/tests/data/video/obama_speech.wav\n"
     ]
    },
    {
     "name": "stderr",
     "output_type": "stream",
     "text": [
      "100%|██████████| 193/193 [00:00<00:00, 1500.06it/s]"
     ]
    },
    {
     "name": "stdout",
     "output_type": "stream",
     "text": [
      "[MoviePy] Done.\n"
     ]
    },
    {
     "name": "stderr",
     "output_type": "stream",
     "text": [
      "\n",
      "WARNING:py.warnings:/Library/Python/2.7/site-packages/pandas/core/algorithms.py:190: UnicodeWarning: Unicode equal comparison failed to convert both arguments to Unicode - interpreting them as being unequal\n",
      "  labels = table.get_labels(vals, uniques, 0, na_sentinel)\n",
      "\n",
      "WARNING:py.warnings:/Library/Python/2.7/site-packages/pandas/core/algorithms.py:198: UnicodeWarning: Unicode equal comparison failed to convert both arguments to Unicode - interpreting them as being unequal\n",
      "  sorter = uniques.argsort()\n",
      "\n",
      "WARNING:py.warnings:/Library/Python/2.7/site-packages/pandas/core/index.py:812: UnicodeWarning: Unicode equal comparison failed to convert both arguments to Unicode - interpreting them as being unequal\n",
      "  return self._engine.is_unique\n",
      "\n"
     ]
    },
    {
     "data": {
      "text/html": [
       "<div>\n",
       "<table border=\"1\" class=\"dataframe\">\n",
       "  <thead>\n",
       "    <tr>\n",
       "      <th></th>\n",
       "      <th></th>\n",
       "      <th>LengthExtractor</th>\n",
       "      <th>VibranceExtractor</th>\n",
       "      <th>onset</th>\n",
       "    </tr>\n",
       "    <tr>\n",
       "      <th></th>\n",
       "      <th></th>\n",
       "      <th>text_length</th>\n",
       "      <th>vibrance</th>\n",
       "      <th></th>\n",
       "    </tr>\n",
       "    <tr>\n",
       "      <th></th>\n",
       "      <th>stim</th>\n",
       "      <th></th>\n",
       "      <th></th>\n",
       "      <th></th>\n",
       "    </tr>\n",
       "  </thead>\n",
       "  <tbody>\n",
       "    <tr>\n",
       "      <th rowspan=\"29\" valign=\"top\">0</th>\n",
       "      <th>obama_speech.mp4_60</th>\n",
       "      <td>NaN</td>\n",
       "      <td>586.500651</td>\n",
       "      <td>5.00</td>\n",
       "    </tr>\n",
       "    <tr>\n",
       "      <th>obama_speech.mp4_60_1'\"\\nPIESIIIE Y' I' I ‘ s\\nt 1'. I)“; 555'} HEM on nun</th>\n",
       "      <td>56</td>\n",
       "      <td>NaN</td>\n",
       "      <td>NaN</td>\n",
       "    </tr>\n",
       "    <tr>\n",
       "      <th>years</th>\n",
       "      <td>5</td>\n",
       "      <td>NaN</td>\n",
       "      <td>3.00</td>\n",
       "    </tr>\n",
       "    <tr>\n",
       "      <th>states</th>\n",
       "      <td>6</td>\n",
       "      <td>NaN</td>\n",
       "      <td>8.00</td>\n",
       "    </tr>\n",
       "    <tr>\n",
       "      <th>cheats</th>\n",
       "      <td>6</td>\n",
       "      <td>NaN</td>\n",
       "      <td>14.00</td>\n",
       "    </tr>\n",
       "    <tr>\n",
       "      <th>negotiations</th>\n",
       "      <td>12</td>\n",
       "      <td>NaN</td>\n",
       "      <td>5.00</td>\n",
       "    </tr>\n",
       "    <tr>\n",
       "      <th>partners</th>\n",
       "      <td>8</td>\n",
       "      <td>NaN</td>\n",
       "      <td>12.00</td>\n",
       "    </tr>\n",
       "    <tr>\n",
       "      <th>united</th>\n",
       "      <td>6</td>\n",
       "      <td>NaN</td>\n",
       "      <td>7.00</td>\n",
       "    </tr>\n",
       "    <tr>\n",
       "      <th>two</th>\n",
       "      <td>3</td>\n",
       "      <td>NaN</td>\n",
       "      <td>2.00</td>\n",
       "    </tr>\n",
       "    <tr>\n",
       "      <th>international</th>\n",
       "      <td>13</td>\n",
       "      <td>NaN</td>\n",
       "      <td>11.00</td>\n",
       "    </tr>\n",
       "    <tr>\n",
       "      <th>obama_speech.mp4_45</th>\n",
       "      <td>NaN</td>\n",
       "      <td>575.903070</td>\n",
       "      <td>3.75</td>\n",
       "    </tr>\n",
       "    <tr>\n",
       "      <th>today</th>\n",
       "      <td>5</td>\n",
       "      <td>NaN</td>\n",
       "      <td>0.00</td>\n",
       "    </tr>\n",
       "    <tr>\n",
       "      <th>obama_speech.mp4_45_mslnsu-r onu‘ﬁ. SAVEIENV nu IRAN</th>\n",
       "      <td>36</td>\n",
       "      <td>NaN</td>\n",
       "      <td>NaN</td>\n",
       "    </tr>\n",
       "    <tr>\n",
       "      <th>obama_speech.mp4_15</th>\n",
       "      <td>NaN</td>\n",
       "      <td>441.618626</td>\n",
       "      <td>1.25</td>\n",
       "    </tr>\n",
       "    <tr>\n",
       "      <th>who</th>\n",
       "      <td>3</td>\n",
       "      <td>NaN</td>\n",
       "      <td>13.00</td>\n",
       "    </tr>\n",
       "    <tr>\n",
       "      <th>obama_speech.mp4_30_</th>\n",
       "      <td>0</td>\n",
       "      <td>NaN</td>\n",
       "      <td>NaN</td>\n",
       "    </tr>\n",
       "    <tr>\n",
       "      <th>obama_speech.mp4_30</th>\n",
       "      <td>NaN</td>\n",
       "      <td>506.321013</td>\n",
       "      <td>2.50</td>\n",
       "    </tr>\n",
       "    <tr>\n",
       "      <th>obama_speech.mp4_75_</th>\n",
       "      <td>0</td>\n",
       "      <td>NaN</td>\n",
       "      <td>NaN</td>\n",
       "    </tr>\n",
       "    <tr>\n",
       "      <th>after</th>\n",
       "      <td>5</td>\n",
       "      <td>NaN</td>\n",
       "      <td>1.00</td>\n",
       "    </tr>\n",
       "    <tr>\n",
       "      <th>obama_speech.mp4_15_</th>\n",
       "      <td>0</td>\n",
       "      <td>NaN</td>\n",
       "      <td>NaN</td>\n",
       "    </tr>\n",
       "    <tr>\n",
       "      <th>obama_speech.mp4_0</th>\n",
       "      <td>NaN</td>\n",
       "      <td>418.851528</td>\n",
       "      <td>0.00</td>\n",
       "    </tr>\n",
       "    <tr>\n",
       "      <th>of</th>\n",
       "      <td>2</td>\n",
       "      <td>NaN</td>\n",
       "      <td>4.00</td>\n",
       "    </tr>\n",
       "    <tr>\n",
       "      <th>obama_speech.mp4_0_</th>\n",
       "      <td>0</td>\n",
       "      <td>NaN</td>\n",
       "      <td>NaN</td>\n",
       "    </tr>\n",
       "    <tr>\n",
       "      <th>together</th>\n",
       "      <td>8</td>\n",
       "      <td>NaN</td>\n",
       "      <td>9.00</td>\n",
       "    </tr>\n",
       "    <tr>\n",
       "      <th>obama_speech.mp4_90</th>\n",
       "      <td>NaN</td>\n",
       "      <td>589.524823</td>\n",
       "      <td>7.50</td>\n",
       "    </tr>\n",
       "    <tr>\n",
       "      <th>obama_speech.mp4_75</th>\n",
       "      <td>NaN</td>\n",
       "      <td>590.007483</td>\n",
       "      <td>6.25</td>\n",
       "    </tr>\n",
       "    <tr>\n",
       "      <th>obama_speech.mp4_90_, 7 V\\nPnEslnEMJ'W min: an Inn:\\nA ‘</th>\n",
       "      <td>36</td>\n",
       "      <td>NaN</td>\n",
       "      <td>NaN</td>\n",
       "    </tr>\n",
       "    <tr>\n",
       "      <th>the</th>\n",
       "      <td>3</td>\n",
       "      <td>NaN</td>\n",
       "      <td>6.00</td>\n",
       "    </tr>\n",
       "    <tr>\n",
       "      <th>or</th>\n",
       "      <td>2</td>\n",
       "      <td>NaN</td>\n",
       "      <td>10.00</td>\n",
       "    </tr>\n",
       "  </tbody>\n",
       "</table>\n",
       "</div>"
      ],
      "text/plain": [
       "                                                     LengthExtractor  \\\n",
       "                                                         text_length   \n",
       "  stim                                                                 \n",
       "0 obama_speech.mp4_60                                            NaN   \n",
       "  obama_speech.mp4_60_1'\"\\nPIESIIIE Y' I' I ‘ s\\n...              56   \n",
       "  years                                                            5   \n",
       "  states                                                           6   \n",
       "  cheats                                                           6   \n",
       "  negotiations                                                    12   \n",
       "  partners                                                         8   \n",
       "  united                                                           6   \n",
       "  two                                                              3   \n",
       "  international                                                   13   \n",
       "  obama_speech.mp4_45                                            NaN   \n",
       "  today                                                            5   \n",
       "  obama_speech.mp4_45_mslnsu-r onu‘ﬁ. SAVEIENV nu...              36   \n",
       "  obama_speech.mp4_15                                            NaN   \n",
       "  who                                                              3   \n",
       "  obama_speech.mp4_30_                                             0   \n",
       "  obama_speech.mp4_30                                            NaN   \n",
       "  obama_speech.mp4_75_                                             0   \n",
       "  after                                                            5   \n",
       "  obama_speech.mp4_15_                                             0   \n",
       "  obama_speech.mp4_0                                             NaN   \n",
       "  of                                                               2   \n",
       "  obama_speech.mp4_0_                                              0   \n",
       "  together                                                         8   \n",
       "  obama_speech.mp4_90                                            NaN   \n",
       "  obama_speech.mp4_75                                            NaN   \n",
       "  obama_speech.mp4_90_, 7 V\\nPnEslnEMJ'W min: an ...              36   \n",
       "  the                                                              3   \n",
       "  or                                                               2   \n",
       "\n",
       "                                                     VibranceExtractor  onset  \n",
       "                                                              vibrance         \n",
       "  stim                                                                         \n",
       "0 obama_speech.mp4_60                                       586.500651   5.00  \n",
       "  obama_speech.mp4_60_1'\"\\nPIESIIIE Y' I' I ‘ s\\n...               NaN    NaN  \n",
       "  years                                                            NaN   3.00  \n",
       "  states                                                           NaN   8.00  \n",
       "  cheats                                                           NaN  14.00  \n",
       "  negotiations                                                     NaN   5.00  \n",
       "  partners                                                         NaN  12.00  \n",
       "  united                                                           NaN   7.00  \n",
       "  two                                                              NaN   2.00  \n",
       "  international                                                    NaN  11.00  \n",
       "  obama_speech.mp4_45                                       575.903070   3.75  \n",
       "  today                                                            NaN   0.00  \n",
       "  obama_speech.mp4_45_mslnsu-r onu‘ﬁ. SAVEIENV nu...               NaN    NaN  \n",
       "  obama_speech.mp4_15                                       441.618626   1.25  \n",
       "  who                                                              NaN  13.00  \n",
       "  obama_speech.mp4_30_                                             NaN    NaN  \n",
       "  obama_speech.mp4_30                                       506.321013   2.50  \n",
       "  obama_speech.mp4_75_                                             NaN    NaN  \n",
       "  after                                                            NaN   1.00  \n",
       "  obama_speech.mp4_15_                                             NaN    NaN  \n",
       "  obama_speech.mp4_0                                        418.851528   0.00  \n",
       "  of                                                               NaN   4.00  \n",
       "  obama_speech.mp4_0_                                              NaN    NaN  \n",
       "  together                                                         NaN   9.00  \n",
       "  obama_speech.mp4_90                                       589.524823   7.50  \n",
       "  obama_speech.mp4_75                                       590.007483   6.25  \n",
       "  obama_speech.mp4_90_, 7 V\\nPnEslnEMJ'W min: an ...               NaN    NaN  \n",
       "  the                                                              NaN   6.00  \n",
       "  or                                                               NaN  10.00  "
      ]
     },
     "execution_count": 5,
     "metadata": {},
     "output_type": "execute_result"
    }
   ],
   "source": [
    "# Graph way of doing the same pipeline\n",
    "visual_nodes = [(FrameSamplingConverter(every=15), 'framesampling', \n",
    "             [(TesseractConverter(), 'visual_text', \n",
    "                [(LengthExtractor(), 'text_length')]), \n",
    "              (VibranceExtractor(), 'visual_vibrance')])]\n",
    "audio_nodes = [(VideoToAudioConverter(), 'audio', \n",
    "            [(WitTranscriptionConverter(), 'audio_text', \n",
    "              [(LengthExtractor(), 'text_length')])])]\n",
    "\n",
    "graph = Graph()\n",
    "graph.add_children(visual_nodes)\n",
    "graph.add_children(audio_nodes)\n",
    "graph.extract(video)"
   ]
  },
  {
   "cell_type": "code",
   "execution_count": null,
   "metadata": {
    "collapsed": true
   },
   "outputs": [],
   "source": []
  }
 ],
 "metadata": {
  "kernelspec": {
   "display_name": "Python 2",
   "language": "python",
   "name": "python2"
  },
  "language_info": {
   "codemirror_mode": {
    "name": "ipython",
    "version": 2
   },
   "file_extension": ".py",
   "mimetype": "text/x-python",
   "name": "python",
   "nbconvert_exporter": "python",
   "pygments_lexer": "ipython2",
   "version": "2.7.10"
  }
 },
 "nbformat": 4,
 "nbformat_minor": 0
}
